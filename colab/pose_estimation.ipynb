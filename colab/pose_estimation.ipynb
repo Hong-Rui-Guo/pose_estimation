{
  "nbformat": 4,
  "nbformat_minor": 0,
  "metadata": {
    "colab": {
      "name": "pose_estimation.ipynb",
      "provenance": [],
      "collapsed_sections": []
    },
    "kernelspec": {
      "name": "python3",
      "display_name": "Python 3"
    },
    "language_info": {
      "name": "python"
    },
    "accelerator": "GPU"
  },
  "cells": [
    {
      "cell_type": "markdown",
      "metadata": {
        "id": "VZQkFbrzXXKT"
      },
      "source": [
        "### Import Modules"
      ]
    },
    {
      "cell_type": "code",
      "metadata": {
        "id": "YoLR7p7FKUUF"
      },
      "source": [
        "import sys\n",
        "import os\n",
        "import os.path\n",
        "\n",
        "\n",
        "import copy\n",
        "import numpy as np\n",
        "import cv2\n",
        "\n",
        "import torch\n",
        "import torch.nn as nn\n",
        "from torch.autograd import Variable\n",
        "from torchvision import transforms\n",
        "\n",
        "import matplotlib.pyplot as plt\n",
        "from PIL import Image\n",
        "\n",
        "import errno\n",
        "import time\n",
        "\n"
      ],
      "execution_count": 64,
      "outputs": []
    },
    {
      "cell_type": "markdown",
      "metadata": {
        "id": "OvgmeGG-Xomb"
      },
      "source": [
        "### Path Setup"
      ]
    },
    {
      "cell_type": "code",
      "metadata": {
        "id": "euKmFSpv9Yig",
        "colab": {
          "base_uri": "https://localhost:8080/"
        },
        "outputId": "6a0d00fb-e853-4104-c274-3a7960300795"
      },
      "source": [
        "!git clone https://github.com/Hong-Rui-Guo/pose_estimation.git\n",
        "\n",
        "sys.path.append('/content/pose_estimation/grasp_samplers')\n",
        "print(sys.path)"
      ],
      "execution_count": 73,
      "outputs": [
        {
          "output_type": "stream",
          "text": [
            "Cloning into 'pose_estimation'...\n",
            "remote: Enumerating objects: 55, done.\u001b[K\n",
            "remote: Counting objects:   1% (1/55)\u001b[K\rremote: Counting objects:   3% (2/55)\u001b[K\rremote: Counting objects:   5% (3/55)\u001b[K\rremote: Counting objects:   7% (4/55)\u001b[K\rremote: Counting objects:   9% (5/55)\u001b[K\rremote: Counting objects:  10% (6/55)\u001b[K\rremote: Counting objects:  12% (7/55)\u001b[K\rremote: Counting objects:  14% (8/55)\u001b[K\rremote: Counting objects:  16% (9/55)\u001b[K\rremote: Counting objects:  18% (10/55)\u001b[K\rremote: Counting objects:  20% (11/55)\u001b[K\rremote: Counting objects:  21% (12/55)\u001b[K\rremote: Counting objects:  23% (13/55)\u001b[K\rremote: Counting objects:  25% (14/55)\u001b[K\rremote: Counting objects:  27% (15/55)\u001b[K\rremote: Counting objects:  29% (16/55)\u001b[K\rremote: Counting objects:  30% (17/55)\u001b[K\rremote: Counting objects:  32% (18/55)\u001b[K\rremote: Counting objects:  34% (19/55)\u001b[K\rremote: Counting objects:  36% (20/55)\u001b[K\rremote: Counting objects:  38% (21/55)\u001b[K\rremote: Counting objects:  40% (22/55)\u001b[K\rremote: Counting objects:  41% (23/55)\u001b[K\rremote: Counting objects:  43% (24/55)\u001b[K\rremote: Counting objects:  45% (25/55)\u001b[K\rremote: Counting objects:  47% (26/55)\u001b[K\rremote: Counting objects:  49% (27/55)\u001b[K\rremote: Counting objects:  50% (28/55)\u001b[K\rremote: Counting objects:  52% (29/55)\u001b[K\rremote: Counting objects:  54% (30/55)\u001b[K\rremote: Counting objects:  56% (31/55)\u001b[K\rremote: Counting objects:  58% (32/55)\u001b[K\rremote: Counting objects:  60% (33/55)\u001b[K\rremote: Counting objects:  61% (34/55)\u001b[K\rremote: Counting objects:  63% (35/55)\u001b[K\rremote: Counting objects:  65% (36/55)\u001b[K\rremote: Counting objects:  67% (37/55)\u001b[K\rremote: Counting objects:  69% (38/55)\u001b[K\rremote: Counting objects:  70% (39/55)\u001b[K\rremote: Counting objects:  72% (40/55)\u001b[K\rremote: Counting objects:  74% (41/55)\u001b[K\rremote: Counting objects:  76% (42/55)\u001b[K\rremote: Counting objects:  78% (43/55)\u001b[K\rremote: Counting objects:  80% (44/55)\u001b[K\rremote: Counting objects:  81% (45/55)\u001b[K\rremote: Counting objects:  83% (46/55)\u001b[K\rremote: Counting objects:  85% (47/55)\u001b[K\rremote: Counting objects:  87% (48/55)\u001b[K\rremote: Counting objects:  89% (49/55)\u001b[K\rremote: Counting objects:  90% (50/55)\u001b[K\rremote: Counting objects:  92% (51/55)\u001b[K\rremote: Counting objects:  94% (52/55)\u001b[K\rremote: Counting objects:  96% (53/55)\u001b[K\rremote: Counting objects:  98% (54/55)\u001b[K\rremote: Counting objects: 100% (55/55)\u001b[K\rremote: Counting objects: 100% (55/55), done.\u001b[K\n",
            "remote: Compressing objects: 100% (37/37), done.\u001b[K\n",
            "remote: Total 55 (delta 13), reused 46 (delta 7), pack-reused 0\u001b[K\n",
            "Unpacking objects: 100% (55/55), done.\n",
            "['', '/content', '/env/python', '/usr/lib/python37.zip', '/usr/lib/python3.7', '/usr/lib/python3.7/lib-dynload', '/usr/local/lib/python3.7/dist-packages', '/usr/lib/python3/dist-packages', '/usr/local/lib/python3.7/dist-packages/IPython/extensions', '/root/.ipython', '/content/pose_estimation/grasp_samplers', '/content/pose_estimation/grasp_samplers', '/content/pose_estimation/grasp_samplers', '/content/pose_estimation/grasp_samplers']\n"
          ],
          "name": "stdout"
        }
      ]
    },
    {
      "cell_type": "markdown",
      "metadata": {
        "id": "3u4fySP3l4yk"
      },
      "source": [
        "## Prepare for Model\n",
        "\n",
        "The model will be downloaded from the internet source provided as in the pyrobot code.\n",
        "A copy is available in the pretrained-model folder in case the source is unavailable."
      ]
    },
    {
      "cell_type": "markdown",
      "metadata": {
        "id": "DVlHsgJ-aoyu"
      },
      "source": [
        "### Overview"
      ]
    },
    {
      "cell_type": "code",
      "metadata": {
        "colab": {
          "base_uri": "https://localhost:8080/",
          "height": 458
        },
        "id": "l1Y110RCbThM",
        "outputId": "7f1823ad-b8d0-4134-8d19-a3c6c7df2c6c"
      },
      "source": [
        "from graphviz import Digraph\n",
        "\n",
        "locobot_graph = Digraph(format='png')\n",
        "\n",
        "with locobot_graph.subgraph(name='cluster_0') as sampler:\n",
        "  sampler.attr(label='grasp_sampler')\n",
        "  sampler.node('torchvision.models.resnet', 'torchvision.models.resnet')\n",
        "  sampler.node('deeper_model', 'deeper_model.py')\n",
        "  sampler.node('grasp_object', 'grasp_object.py')\n",
        "  sampler.node('grasp_model', 'grasp_model.py')\n",
        "  sampler.node('grasp_predictor', 'grasp_predictor.py')\n",
        "\n",
        "  locobot_graph.edge('torchvision.models.resnet', 'deeper_model')\n",
        "  locobot_graph.edge('deeper_model', 'grasp_object')\n",
        "  locobot_graph.edge('grasp_object', 'grasp_model')\n",
        "  locobot_graph.edge('grasp_predictor', 'grasp_model')\n",
        "\n",
        "print(\"grasp_sampler folder structure(it has 4 python code)\")\n",
        "locobot_graph"
      ],
      "execution_count": 3,
      "outputs": [
        {
          "output_type": "stream",
          "text": [
            "grasp_sampler folder structure(it has 4 python code)\n"
          ],
          "name": "stdout"
        },
        {
          "output_type": "execute_result",
          "data": {
            "text/plain": [
              "<graphviz.dot.Digraph at 0x7f022fb1f190>"
            ],
            "image/svg+xml": "<?xml version=\"1.0\" encoding=\"UTF-8\" standalone=\"no\"?>\n<!DOCTYPE svg PUBLIC \"-//W3C//DTD SVG 1.1//EN\"\n \"http://www.w3.org/Graphics/SVG/1.1/DTD/svg11.dtd\">\n<!-- Generated by graphviz version 2.40.1 (20161225.0304)\n -->\n<!-- Title: %3 Pages: 1 -->\n<svg width=\"360pt\" height=\"315pt\"\n viewBox=\"0.00 0.00 360.00 315.00\" xmlns=\"http://www.w3.org/2000/svg\" xmlns:xlink=\"http://www.w3.org/1999/xlink\">\n<g id=\"graph0\" class=\"graph\" transform=\"scale(1 1) rotate(0) translate(4 311)\">\n<title>%3</title>\n<polygon fill=\"#ffffff\" stroke=\"transparent\" points=\"-4,4 -4,-311 356,-311 356,4 -4,4\"/>\n<g id=\"clust1\" class=\"cluster\">\n<title>cluster_0</title>\n<polygon fill=\"none\" stroke=\"#000000\" points=\"8,-8 8,-299 344,-299 344,-8 8,-8\"/>\n<text text-anchor=\"middle\" x=\"176\" y=\"-283.8\" font-family=\"Times,serif\" font-size=\"14.00\" fill=\"#000000\">grasp_sampler</text>\n</g>\n<!-- torchvision.models.resnet -->\n<g id=\"node1\" class=\"node\">\n<title>torchvision.models.resnet</title>\n<ellipse fill=\"none\" stroke=\"#000000\" cx=\"230\" cy=\"-250\" rx=\"105.8812\" ry=\"18\"/>\n<text text-anchor=\"middle\" x=\"230\" y=\"-246.3\" font-family=\"Times,serif\" font-size=\"14.00\" fill=\"#000000\">torchvision.models.resnet</text>\n</g>\n<!-- deeper_model -->\n<g id=\"node2\" class=\"node\">\n<title>deeper_model</title>\n<ellipse fill=\"none\" stroke=\"#000000\" cx=\"245\" cy=\"-178\" rx=\"75.2868\" ry=\"18\"/>\n<text text-anchor=\"middle\" x=\"245\" y=\"-174.3\" font-family=\"Times,serif\" font-size=\"14.00\" fill=\"#000000\">deeper_model.py</text>\n</g>\n<!-- torchvision.models.resnet&#45;&gt;deeper_model -->\n<g id=\"edge1\" class=\"edge\">\n<title>torchvision.models.resnet&#45;&gt;deeper_model</title>\n<path fill=\"none\" stroke=\"#000000\" d=\"M233.7851,-231.8314C235.3894,-224.131 237.297,-214.9743 239.0799,-206.4166\"/>\n<polygon fill=\"#000000\" stroke=\"#000000\" points=\"242.5507,-206.9169 241.1639,-196.4133 235.6979,-205.4892 242.5507,-206.9169\"/>\n</g>\n<!-- grasp_object -->\n<g id=\"node3\" class=\"node\">\n<title>grasp_object</title>\n<ellipse fill=\"none\" stroke=\"#000000\" cx=\"266\" cy=\"-106\" rx=\"70.3881\" ry=\"18\"/>\n<text text-anchor=\"middle\" x=\"266\" y=\"-102.3\" font-family=\"Times,serif\" font-size=\"14.00\" fill=\"#000000\">grasp_object.py</text>\n</g>\n<!-- deeper_model&#45;&gt;grasp_object -->\n<g id=\"edge2\" class=\"edge\">\n<title>deeper_model&#45;&gt;grasp_object</title>\n<path fill=\"none\" stroke=\"#000000\" d=\"M250.2992,-159.8314C252.5698,-152.0463 255.2746,-142.7729 257.794,-134.1347\"/>\n<polygon fill=\"#000000\" stroke=\"#000000\" points=\"261.1894,-134.9933 260.6295,-124.4133 254.4694,-133.0332 261.1894,-134.9933\"/>\n</g>\n<!-- grasp_model -->\n<g id=\"node4\" class=\"node\">\n<title>grasp_model</title>\n<ellipse fill=\"none\" stroke=\"#000000\" cx=\"181\" cy=\"-34\" rx=\"71.4873\" ry=\"18\"/>\n<text text-anchor=\"middle\" x=\"181\" y=\"-30.3\" font-family=\"Times,serif\" font-size=\"14.00\" fill=\"#000000\">grasp_model.py</text>\n</g>\n<!-- grasp_object&#45;&gt;grasp_model -->\n<g id=\"edge3\" class=\"edge\">\n<title>grasp_object&#45;&gt;grasp_model</title>\n<path fill=\"none\" stroke=\"#000000\" d=\"M245.4239,-88.5708C234.5655,-79.3732 221.0779,-67.9484 209.2539,-57.9328\"/>\n<polygon fill=\"#000000\" stroke=\"#000000\" points=\"211.2793,-55.0615 201.3866,-51.2687 206.7549,-60.4028 211.2793,-55.0615\"/>\n</g>\n<!-- grasp_predictor -->\n<g id=\"node5\" class=\"node\">\n<title>grasp_predictor</title>\n<ellipse fill=\"none\" stroke=\"#000000\" cx=\"97\" cy=\"-106\" rx=\"80.6858\" ry=\"18\"/>\n<text text-anchor=\"middle\" x=\"97\" y=\"-102.3\" font-family=\"Times,serif\" font-size=\"14.00\" fill=\"#000000\">grasp_predictor.py</text>\n</g>\n<!-- grasp_predictor&#45;&gt;grasp_model -->\n<g id=\"edge4\" class=\"edge\">\n<title>grasp_predictor&#45;&gt;grasp_model</title>\n<path fill=\"none\" stroke=\"#000000\" d=\"M117.3341,-88.5708C127.9858,-79.4408 141.1977,-68.1163 152.8204,-58.1539\"/>\n<polygon fill=\"#000000\" stroke=\"#000000\" points=\"155.2472,-60.6836 160.5621,-51.5182 150.6917,-55.3688 155.2472,-60.6836\"/>\n</g>\n</g>\n</svg>\n"
          },
          "metadata": {
            "tags": []
          },
          "execution_count": 3
        }
      ]
    },
    {
      "cell_type": "markdown",
      "metadata": {
        "id": "jS_ubm-D6ep-"
      },
      "source": [
        "### Download pre-trained weights"
      ]
    },
    {
      "cell_type": "code",
      "metadata": {
        "id": "Z8M8RyuPlTBa",
        "colab": {
          "base_uri": "https://localhost:8080/"
        },
        "outputId": "12983b96-5f06-4208-b3fa-ed95a44b562c"
      },
      "source": [
        "def download_if_not_present(model_path, url):\n",
        "    \"\"\"\n",
        "    Function that downloads a file from a url to a given location.\n",
        "    :param model_path: Path where the file should be downlaoded to\n",
        "    :param url: URL from where the file will be downloaded from\n",
        "    :type model_path: string\n",
        "    :type url: string\n",
        "    \"\"\"\n",
        "    if not os.path.isfile(model_path):\n",
        "        if not os.path.exists(os.path.dirname(model_path)):\n",
        "            try:\n",
        "                os.makedirs(os.path.dirname(model_path))\n",
        "            except OSError as exc:  # Guard against race condition\n",
        "                if exc.errno != errno.EEXIST:\n",
        "                    raise\n",
        "        print(\"GRASP MODEL NOT FOUND! DOWNLOADING IT!\")\n",
        "        os.system(\"wget {} -O {}\".format(url, model_path))\n",
        "\n",
        "download_if_not_present('/content/model.pth',url='https://www.dropbox.com/s/fta8zebyzfrt3fw/checkpoint.pth.20?dl=0')"
      ],
      "execution_count": 4,
      "outputs": [
        {
          "output_type": "stream",
          "text": [
            "GRASP MODEL NOT FOUND! DOWNLOADING IT!\n"
          ],
          "name": "stdout"
        }
      ]
    },
    {
      "cell_type": "markdown",
      "metadata": {
        "id": "OsCpw3hNUMyS"
      },
      "source": [
        "### deeper_models.py"
      ]
    },
    {
      "cell_type": "markdown",
      "metadata": {
        "id": "WsXWxdC96ioX"
      },
      "source": [
        "### grasp_object.py\n",
        "\n",
        "grasp_object.py contains a class with functionality to wrap a torch grasp model with testing operations.\n"
      ]
    },
    {
      "cell_type": "code",
      "metadata": {
        "id": "-9TfuZ4SJi9y"
      },
      "source": [
        "import deeper_models\n",
        "\n",
        "sys.modules[\"patch_learner.deeper_models\"] = deeper_models\n",
        "sys.modules[\"patch_learner\"] = deeper_models\n",
        "\n",
        "is_gpu = torch.cuda.is_available()\n",
        "n_class = 18\n",
        "n_rob = 5\n",
        "\n",
        "class GraspTorchObj(object):\n",
        "    \"\"\"\n",
        "    This class contains functionality to wrap a torch grasp model with testing operations.\n",
        "    \"\"\"\n",
        "\n",
        "    def __init__(self, model_path, transform=None):\n",
        "        \"\"\"\n",
        "            The constructor for :class:`GraspTorchObj` class.\n",
        "    \n",
        "            :param model_path: Path where the grasp model should be loaded from\n",
        "            :param transform: A PyTorch transform that gets applied on the input\n",
        "            :type model_path: string\n",
        "            :type transform: A torchvision.Transform object\n",
        "            \"\"\"\n",
        "        torch.nn.Module.dump_patches = True\n",
        "        self.model = torch.load(model_path).eval()\n",
        "        self.model.avgpool = nn.AdaptiveAvgPool2d((1,1))\n",
        "        self.image_size = 224\n",
        "        if is_gpu:\n",
        "            self.model = self.model.cuda()\n",
        "        if transform is None:\n",
        "            self.transform = self.get_default_transform()\n",
        "        else:\n",
        "            self.transform = transform\n",
        "\n",
        "    def test_one_batch(self, x, h, w, angle_labels, robot_labels, full_x):\n",
        "        \"\"\"\n",
        "        Runs the torch model on a batch of inputs.\n",
        "    \n",
        "            :param x: List of image patches\n",
        "            :param h: List of heights of the center of the patch in the original image\n",
        "            :param w: List of widths of the center of the patch in the original image\n",
        "            :param angle_labels: List of labels corresponding to the angle to grasp\n",
        "            :param robot_labels: List of robot_id corresponding to the robot\n",
        "            :param full_x: List of original image where the patch comes from.\n",
        "            :type x: list\n",
        "            :type h: list\n",
        "            :type w: list\n",
        "            :type angle_labels: list\n",
        "            :type robot_labels: list\n",
        "            :type full_x: list\n",
        "    \n",
        "            :returns: List of grasp predictions\n",
        "            :rtype: list\n",
        "        \"\"\"\n",
        "        torch_patches_var = Variable(self.convert_cv2_patches(x))\n",
        "        h_var = Variable(self.convert_hw(h))\n",
        "        w_var = Variable(self.convert_hw(w))\n",
        "        one_hot_var = self.convert_one_hot(angle_labels)\n",
        "        #print(angle_labels)\n",
        "        #print(one_hot_var)\n",
        "\n",
        "        robot_one_hot_var = self.convert_robot_one_hot(robot_labels)\n",
        "        #print(robot_labels)\n",
        "        #print(robot_one_hot_var)\n",
        "        \n",
        "        torch_images_var = Variable(self.convert_cv2_patches(full_x))\n",
        "\n",
        "        if is_gpu:\n",
        "            torch_patches_var = torch_patches_var.cuda()\n",
        "            h_var = h_var.cuda()\n",
        "            w_var = w_var.cuda()\n",
        "            one_hot_var = one_hot_var.cuda()\n",
        "            robot_one_hot_var = robot_one_hot_var.cuda()\n",
        "            torch_images_var = torch_images_var.cuda()\n",
        "        predictions, _ = self.model(\n",
        "            x=torch_patches_var,\n",
        "            h=h_var,\n",
        "            w=w_var,\n",
        "            one_hot_labels=one_hot_var,\n",
        "            robot_one_hot_labels=robot_one_hot_var,\n",
        "            full_x=torch_images_var,\n",
        "        )\n",
        "        return predictions.data.cpu().numpy()\n",
        "\n",
        "    def convert_cv2_patches(self, P):\n",
        "        \"\"\"\n",
        "        Converts a list of image patches to a torch Tensor\n",
        "    \n",
        "        :param P: List of image patches\n",
        "        :type P: list\n",
        "    \n",
        "        :returns: A torch Tensor of image patches\n",
        "        :rtype: torch Tensor\n",
        "        \"\"\"\n",
        "        assert len(P.shape) == 4\n",
        "        im_list = []\n",
        "        for p in P:\n",
        "            p = np.uint8(p)\n",
        "            pil_im = Image.fromarray(p)\n",
        "            pil_im = pil_im.convert(\"RGB\")\n",
        "            if self.transform:\n",
        "                pil_im = self.transform(pil_im)\n",
        "            im_list.append(pil_im)\n",
        "        im_stacked = torch.stack(im_list)\n",
        "        return im_stacked\n",
        "\n",
        "    def convert_hw(self, h):\n",
        "        \"\"\"\n",
        "        Converts a list of floats to a torch Tensor\n",
        "    \n",
        "        :param h: List of floats\n",
        "        :type h: list\n",
        "    \n",
        "        :returns: A torch FloatTensor\n",
        "        :rtype: torch FloatTensor\n",
        "        \"\"\"\n",
        "        return torch.FloatTensor(h)\n",
        "\n",
        "    def convert_one_hot(self, labels):\n",
        "        \"\"\"\n",
        "        Converts a list of grasp angle labels to a Torch tensor of one_hot labels\n",
        "    \n",
        "        :param labels: List of angle labels\n",
        "        :type labels: list\n",
        "    \n",
        "        :returns: A torch tensor of one_hot labels\n",
        "        :rtype: torch Tensor\n",
        "        \"\"\"\n",
        "        batch_size = len(labels)\n",
        "        labels_tensor = Variable(torch.LongTensor(labels))\n",
        "        y_onehot = Variable(torch.DoubleTensor(batch_size, n_class))\n",
        "        y_onehot.zero_()\n",
        "        labels_onehot = y_onehot.scatter_(1, labels_tensor.view(-1, 1), 1)\n",
        "        return labels_onehot\n",
        "\n",
        "    def convert_robot_one_hot(self, labels):\n",
        "        \"\"\"\n",
        "        Converts a list of robot_id labels to a Torch tensor of one_hot labels\n",
        "    \n",
        "        :param labels: List of robot_id labels\n",
        "        :type labels: list\n",
        "    \n",
        "        :returns: A torch tensor of one_hot labels\n",
        "        :rtype: torch Tensor\n",
        "        \"\"\"\n",
        "        batch_size = len(labels)\n",
        "        labels_tensor = Variable(torch.LongTensor(labels))\n",
        "        y_onehot = Variable(torch.DoubleTensor(batch_size, n_rob))\n",
        "        y_onehot.zero_()\n",
        "        labels_onehot = y_onehot.scatter_(1, labels_tensor.view(-1, 1), 1)\n",
        "        return labels_onehot\n",
        "\n",
        "    def get_default_transform(self):\n",
        "        \"\"\"\n",
        "        Return the default transform to be applied on the images. This corresponds to the transform that was applied to the images during training.\n",
        "    \n",
        "        :returns: An image transform\n",
        "        :rtype: a torchvision.Transform object\n",
        "        \"\"\"\n",
        "        image_transforms = transforms.Compose(\n",
        "            [\n",
        "                transforms.Resize((self.image_size, self.image_size)),\n",
        "                transforms.ToTensor(),\n",
        "                transforms.Normalize([0.485, 0.456, 0.406], [0.229, 0.224, 0.225]),\n",
        "            ]\n",
        "        )\n",
        "        return image_transforms"
      ],
      "execution_count": 5,
      "outputs": []
    },
    {
      "cell_type": "markdown",
      "metadata": {
        "id": "ZYLUkEvVl_vm"
      },
      "source": [
        "### grasp_predictor.py\n",
        "\n",
        "Given image, returns image point and theta to grasp.\n",
        "\n",
        "Here we only only do the prediction for patches. We did not tackle the parts getting patches from scene image."
      ]
    },
    {
      "cell_type": "code",
      "metadata": {
        "id": "Gp-qlPVYirpY"
      },
      "source": [
        "n_class = 18\n",
        "min_patch_std = 1\n",
        "angle_dependence = [0.25, 0.5, 0.25]\n",
        "\n",
        "try:\n",
        "    xrange\n",
        "except NameError:\n",
        "    xrange = range\n",
        "\n",
        "\n",
        "# Given image, returns image point and theta to grasp\n",
        "class Predictors:\n",
        "    \"\"\"\n",
        "    This class contains functionality to sample grasp patches from the scene image.\n",
        "    \"\"\"\n",
        "\n",
        "    def __init__(self, img, grasp_obj=None):\n",
        "        \"\"\"\n",
        "        The constructor for :class:`Predictors` class.\n",
        "    \n",
        "            :param img: An image of the scene\n",
        "            :param grasp_obj: An object that contains grasp model operations\n",
        "            :type img: np.ndarray\n",
        "            :type grasp_obj: GraspTorchObj\n",
        "        \"\"\"\n",
        "        self.img = img\n",
        "        self.img_h, self.img_w, self.img_c = self.img.shape\n",
        "        self.grasp_obj = grasp_obj\n",
        "\n",
        "    def random_grasp(self):\n",
        "        \"\"\"\n",
        "        Samples a random grasp configuration.\n",
        "    \n",
        "        :returns: A grasp configuration (height, width, angle) of a random grasp\n",
        "        :rtype: tuple\n",
        "        \"\"\"\n",
        "        h_g = np.random.randint(self.img_h)\n",
        "        w_g = np.random.randint(self.img_w)\n",
        "        t_g = np.random.randint(n_class)\n",
        "        return h_g, w_g, t_g\n",
        "\n",
        "    def center_grasp(self):\n",
        "        \"\"\"\n",
        "        Select the center grasp configuration.\n",
        "    \n",
        "        :returns: A grasp configuration (height, width, angle) of the center grasp\n",
        "        :rtype: tuple\n",
        "        \"\"\"\n",
        "        h_g = np.int(self.img_h / 2)\n",
        "        w_g = np.int(self.img_w / 2)\n",
        "        t_g = np.int(n_class / 2)\n",
        "        return h_g, w_g, t_g\n",
        "\n",
        "    def graspNet_grasp(self, patch_size=300, num_samples=128):\n",
        "        \"\"\"\n",
        "        Select grasp based on the grasp model.\n",
        "    \n",
        "        :param patch_size: Size of patch to be sampled\n",
        "        :param num_samples: Number of patches to run\n",
        "        :type patch_size: int\n",
        "        :type num_samples: int\n",
        "        \"\"\"\n",
        "        self.patch_size = patch_size\n",
        "        half_patch_size = np.int(patch_size / 2) + 1\n",
        "        h_range = self.img_h - patch_size - 2\n",
        "        w_range = self.img_w - patch_size - 2\n",
        "\n",
        "        # Initialize random patch points\n",
        "        patch_hs = np.random.randint(h_range, size=num_samples) + half_patch_size\n",
        "        patch_ws = np.random.randint(w_range, size=num_samples) + half_patch_size\n",
        "\n",
        "        patch_Is = np.zeros((num_samples, patch_size, patch_size, self.img_c))\n",
        "        patch_Is_resized = np.zeros(\n",
        "            (\n",
        "                num_samples,\n",
        "                self.grasp_obj.image_size,\n",
        "                self.grasp_obj.image_size,\n",
        "                self.img_c,\n",
        "            )\n",
        "        )\n",
        "        for looper in xrange(num_samples):\n",
        "            isWhiteFlag = 1\n",
        "            while isWhiteFlag == 1:\n",
        "                patch_hs[looper] = np.random.randint(h_range) + half_patch_size\n",
        "                patch_ws[looper] = np.random.randint(w_range) + half_patch_size\n",
        "                h_b = patch_hs[looper] - half_patch_size\n",
        "                w_b = patch_ws[looper] - half_patch_size\n",
        "                patch_Is[looper] = self.img[\n",
        "                    h_b : h_b + patch_size, w_b : w_b + patch_size\n",
        "                ]\n",
        "                # Make sure that the input has a minimal\n",
        "                # amount of standard deviation from mean. If\n",
        "                # not resample\n",
        "                if patch_Is[looper].std() > min_patch_std:\n",
        "                    isWhiteFlag = 0\n",
        "                else:\n",
        "                    isWhiteFlag = 1\n",
        "            patch_Is_resized[looper] = cv2.resize(\n",
        "                patch_Is[looper],\n",
        "                (self.grasp_obj.image_size, self.grasp_obj.image_size),\n",
        "                interpolation=cv2.INTER_CUBIC,\n",
        "            )\n",
        "        angle_labels = [0 for _ in patch_Is_resized]\n",
        "        robot_labels = [0 for _ in patch_Is_resized]\n",
        "        full_x = np.array([self.img for _ in patch_Is_resized])\n",
        "        param_dict = {\n",
        "            \"x\": patch_Is_resized,\n",
        "            \"h\": patch_hs,\n",
        "            \"w\": patch_ws,\n",
        "            \"angle_labels\": angle_labels,\n",
        "            \"robot_labels\": robot_labels,\n",
        "            \"full_x\": full_x,\n",
        "        }\n",
        "        self.vals = self.grasp_obj.test_one_batch(**param_dict)\n",
        "\n",
        "        # Normalizing angle uncertainity\n",
        "        wf = angle_dependence\n",
        "        self.norm_vals = copy.deepcopy(self.vals)\n",
        "        for looper in xrange(num_samples):\n",
        "            for norm_looper in xrange(n_class):\n",
        "                n_val = (\n",
        "                    wf[1] * self.norm_vals[looper, norm_looper]\n",
        "                    + wf[0] * self.norm_vals[looper, (norm_looper - 1) % n_class]\n",
        "                    + wf[2] * self.norm_vals[looper, (norm_looper + 1) % n_class]\n",
        "                )\n",
        "                self.norm_vals[looper, norm_looper] = n_val\n",
        "        self.patch_hs = patch_hs\n",
        "        self.patch_ws = patch_ws\n",
        "        self.patch_Is_resized = patch_Is_resized"
      ],
      "execution_count": 6,
      "outputs": []
    },
    {
      "cell_type": "markdown",
      "metadata": {
        "id": "VIZMxfYXmIn9"
      },
      "source": [
        "### grasp_model.py\n",
        "\n",
        "We extract a couple functions for the prediction.\n",
        "We need a visualizattion function drawTectangle here."
      ]
    },
    {
      "cell_type": "code",
      "metadata": {
        "id": "UWyKBDQriwNo"
      },
      "source": [
        "def drawRectangle(I, h, w, t, gsize=300):\n",
        "    \"\"\"\n",
        "    Function to draw a grasp rectangle on an image.\n",
        "    :param I: Image on which the grasp will be drawn on\n",
        "    :param h: height index for the center of grasp\n",
        "    :param w: width index for the center of grasp\n",
        "    :param t: grasp angle number of the grasp\n",
        "    :param gsize: size of the grasp\n",
        "    :type I: np.ndarray\n",
        "    :type h: int\n",
        "    :type w: int\n",
        "    :type t: int\n",
        "    :type gsize: int\n",
        "    :returns: Image with grasp rectangle drawn on it\n",
        "    :rtype: np.ndarray\n",
        "    \"\"\"\n",
        "    I_temp = I\n",
        "    grasp_l = gsize / 2.5\n",
        "    grasp_w = gsize / 5.0\n",
        "    grasp_angle = t * (np.pi / 18) - np.pi / 2\n",
        "\n",
        "    points = np.array(\n",
        "        [\n",
        "            [-grasp_l, -grasp_w],\n",
        "            [grasp_l, -grasp_w],\n",
        "            [grasp_l, grasp_w],\n",
        "            [-grasp_l, grasp_w],\n",
        "        ]\n",
        "    )\n",
        "    R = np.array(\n",
        "        [\n",
        "            [np.cos(grasp_angle), -np.sin(grasp_angle)],\n",
        "            [np.sin(grasp_angle), np.cos(grasp_angle)],\n",
        "        ]\n",
        "    )\n",
        "    rot_points = np.dot(R, points.transpose()).transpose()\n",
        "    im_points = rot_points + np.array([w, h])\n",
        "    cv2.line(\n",
        "        I_temp,\n",
        "        tuple(im_points[0].astype(int)),\n",
        "        tuple(im_points[1].astype(int)),\n",
        "        color=(0, 255, 0),\n",
        "        thickness=5,\n",
        "    )\n",
        "    cv2.line(\n",
        "        I_temp,\n",
        "        tuple(im_points[1].astype(int)),\n",
        "        tuple(im_points[2].astype(int)),\n",
        "        color=(0, 0, 255),\n",
        "        thickness=5,\n",
        "    )\n",
        "    cv2.line(\n",
        "        I_temp,\n",
        "        tuple(im_points[2].astype(int)),\n",
        "        tuple(im_points[3].astype(int)),\n",
        "        color=(0, 255, 0),\n",
        "        thickness=5,\n",
        "    )\n",
        "    cv2.line(\n",
        "        I_temp,\n",
        "        tuple(im_points[3].astype(int)),\n",
        "        tuple(im_points[0].astype(int)),\n",
        "        color=(0, 0, 255),\n",
        "        thickness=5,\n",
        "    )\n",
        "    return I_temp"
      ],
      "execution_count": 7,
      "outputs": []
    },
    {
      "cell_type": "markdown",
      "metadata": {
        "id": "-ereDfTX6jfF"
      },
      "source": [
        "Here finally we could put them together in GarspModel calss"
      ]
    },
    {
      "cell_type": "code",
      "metadata": {
        "id": "gCoo_Qpejzg4"
      },
      "source": [
        "GPU_ID = -1\n",
        "MAX_BATCHSIZE = 20\n",
        "\n",
        "class GraspModel(object):\n",
        "    \"\"\"\n",
        "    This class contains functionality for grasp prediction.\n",
        "    \"\"\"\n",
        "\n",
        "    def __init__(\n",
        "        self,\n",
        "        nsamples=128,\n",
        "        patchsize=50,\n",
        "        n_importance=1,\n",
        "        n_sen=0,\n",
        "        n_sen_samples=0,\n",
        "        sen_pixels=0,\n",
        "        sen_metric=\"mean\",\n",
        "        model_name=None,\n",
        "        url=None,\n",
        "    ):\n",
        "        \"\"\"\n",
        "            The constructor for :class:`GraspModel` class.\n",
        "            :param nsamples: Number of samples from a given image\n",
        "            :param patchsize: Size of patch to be sampled\n",
        "            :param n_importance: Number of importance samples\n",
        "            :param n_sen: Number of patches to perform sensitivity on\n",
        "            :param n_sen_samples: Number of samples for each patch\n",
        "            :param sen_pixels: Number of pixels to compute sensitivity over\n",
        "        :param sen_metric: Metric for sensitivity aggregation\n",
        "            :param model_name: Name of the downloaded model\n",
        "        :param url: URL for the model\n",
        "            :type nsamples: int\n",
        "            :type patchsize: int\n",
        "            :type n_importance: int\n",
        "            :type n_sen: int\n",
        "            :type n_sen_samples: int\n",
        "            :type sen_pixels: int\n",
        "            :type sen_metric: string\n",
        "            :type model_name: string\n",
        "            :type url: string\n",
        "            \"\"\"\n",
        "\n",
        "        model_path = '/content/model.pth'\n",
        "        if nsamples > MAX_BATCHSIZE:\n",
        "            self._batch_size = MAX_BATCHSIZE\n",
        "            self._nbatches = int(nsamples / MAX_BATCHSIZE) + 1\n",
        "        else:\n",
        "            self._batch_size = nsamples\n",
        "            self._nbatches = 1\n",
        "        print(\"Loading grasp model\")\n",
        "        st_time = time.time()\n",
        "        self.grasp_obj = GraspTorchObj(model_path)\n",
        "        print(\"Time taken to load model: {}s\".format(time.time() - st_time))\n",
        "        self.patchsize = patchsize\n",
        "        self.n_importance = n_importance\n",
        "        self.n_sen = n_sen\n",
        "        self.n_sen_samples = n_sen_samples\n",
        "        self.sen_pixels = sen_pixels\n",
        "        self.sen_metric = sen_metric\n",
        "        self.sen_metrics = [\"mean\", \"min\"]\n",
        "        assert self.sen_metric in self.sen_metrics\n",
        "        assert self.n_sen_samples <= MAX_BATCHSIZE\n",
        "        print('OKKKKKKKKKK')\n",
        "\n",
        "    def predict(self, I):\n",
        "        \"\"\"\n",
        "        Runs prediction on a given image.\n",
        "        :param I: An image\n",
        "        :type I: np.ndarray\n",
        "        :returns: selected grasp configuration (height, width, angle, confidence)\n",
        "        :rtype: tuple\n",
        "        \"\"\"\n",
        "        start_time = time.time()\n",
        "\n",
        "        # First round of forward pass\n",
        "        result = self._predict_image(I, self._nbatches, self._batch_size)\n",
        "        init_predictions, init_patch_Hs, init_patch_Ws = result\n",
        "\n",
        "        # Predicting for second round of sensitivity\n",
        "        sen_study = []\n",
        "        sen_options = []\n",
        "        if self.n_sen <= 0:\n",
        "            predictions, patch_Hs, patch_Ws = (\n",
        "                init_predictions,\n",
        "                init_patch_Hs,\n",
        "                init_patch_Ws,\n",
        "            )\n",
        "        else:\n",
        "            im_shape = I.shape\n",
        "            r = np.argsort(np.max(init_predictions, 1))\n",
        "            r_best = r[-self.n_sen :][::-1]\n",
        "            for r_ind in r_best:\n",
        "                patch_h = init_patch_Hs[r_ind]\n",
        "                patch_w = init_patch_Ws[r_ind]\n",
        "                scan_size = self.patchsize + self.sen_pixels\n",
        "                scan_halfsize = int(scan_size / 2)\n",
        "                scan_region = [\n",
        "                    patch_h - scan_halfsize,\n",
        "                    patch_h + scan_halfsize,\n",
        "                    patch_w - scan_halfsize,\n",
        "                    patch_w + scan_halfsize,\n",
        "                ]\n",
        "                if (\n",
        "                    scan_region[0] < 0\n",
        "                    or scan_region[1] >= im_shape[0]\n",
        "                    or scan_region[2] < 0\n",
        "                    or scan_region[3] >= im_shape[1]\n",
        "                ):\n",
        "                    continue\n",
        "                else:\n",
        "                    I_hw = I[\n",
        "                        scan_region[0] : scan_region[1], scan_region[2] : scan_region[3]\n",
        "                    ]\n",
        "                    result = self._predict_image(I_hw, 1, self.n_sen_samples)\n",
        "                    hw_predictions, hw_patch_Hs, hw_patch_Ws = result\n",
        "                    sen_study.append(copy([hw_predictions, hw_patch_Hs, hw_patch_Ws]))\n",
        "                    sen_options.append(r_ind)\n",
        "            if len(sen_options) == 0:\n",
        "                predictions = init_predictions\n",
        "                patch_Hs = init_patch_Hs\n",
        "                patch_Ws = init_patch_Ws\n",
        "            else:\n",
        "                stability = []\n",
        "                for option in sen_study:\n",
        "                    if self.sen_metric == \"mean\":\n",
        "                        stability.append(option[0].mean(0))\n",
        "                    elif self.sen_metric == \"min\":\n",
        "                        stability.append(option[0].min(0))\n",
        "                stability = np.array(stability)\n",
        "                predictions = copy(stability)\n",
        "                patch_Hs = init_patch_Hs[sen_options]\n",
        "                patch_Ws = init_patch_Ws[sen_options]\n",
        "\n",
        "        # Importance Sampling\n",
        "        r = np.argsort(np.max(predictions, 1))\n",
        "        r_best = r[-self.n_importance :][::-1]\n",
        "        imp_best = np.max(predictions, 1)[r_best]\n",
        "        imp_best[imp_best < 0] = 0.0\n",
        "        if imp_best[0] != 0.0:\n",
        "            imp_best = imp_best / imp_best.sum()\n",
        "            patch_choice_ind = np.random.choice(self.n_importance, p=imp_best)\n",
        "            patch_ind = r_best[patch_choice_ind]\n",
        "        else:\n",
        "            patch_ind = r_best[0]\n",
        "        theta_imps = copy.deepcopy(predictions[patch_ind])\n",
        "        theta_imps[theta_imps < 0] = 0.0\n",
        "        theta_choice_ind = np.argmax(theta_imps)\n",
        "        grasp_angle = theta_choice_ind * (np.pi / 18) - np.pi / 2\n",
        "        selected_grasp = (\n",
        "            patch_Hs[patch_ind],\n",
        "            patch_Ws[patch_ind],\n",
        "            grasp_angle,\n",
        "            predictions[patch_ind, theta_choice_ind],\n",
        "        )\n",
        "        self._disp_I = drawRectangle(\n",
        "            I,\n",
        "            selected_grasp[0],\n",
        "            selected_grasp[1],\n",
        "            theta_choice_ind,\n",
        "            int(self.patchsize),\n",
        "        )\n",
        "        return selected_grasp\n",
        "\n",
        "    def _predict_image(self, I, nbs, bs):\n",
        "        \"\"\"\n",
        "        Compute raw network predictions\n",
        "        :param I: Scene image\n",
        "        :param nbs: Number of batches\n",
        "        :param bs: Batch size\n",
        "        :type I: np.ndarray\n",
        "        :type nbs: int\n",
        "        :type bs: int\n",
        "        :returns: Grasp predictions\n",
        "        :rtype: tuple\n",
        "        \"\"\"\n",
        "        min_imsize = min(I.shape[:2])\n",
        "        assert self.patchsize < min_imsize, \"Input image dimensions are too small\"\n",
        "        gsize = int(self.patchsize)\n",
        "        P = Predictors(I, self.grasp_obj)\n",
        "        predictions = []\n",
        "        patch_Hs = []\n",
        "        patch_Ws = []\n",
        "        for _ in range(nbs):\n",
        "            P.graspNet_grasp(patch_size=gsize, num_samples=bs)\n",
        "            predictions.append(P.norm_vals)\n",
        "            patch_Hs.append(P.patch_hs)\n",
        "            patch_Ws.append(P.patch_ws)\n",
        "\n",
        "        predictions = np.concatenate(predictions)\n",
        "        patch_Hs = np.concatenate(patch_Hs)\n",
        "        patch_Ws = np.concatenate(patch_Ws)\n",
        "        return predictions, patch_Hs, patch_Ws\n",
        "\n",
        "    def display_predicted_image(self):\n",
        "        \"\"\"\n",
        "        Display the scene image with the predicted grasp\n",
        "        \"\"\"\n",
        "        if self._disp_I is None:\n",
        "            return False\n",
        "        print('Visualizing grasp; hit \"space\" to continue')\n",
        "        image = cv2.cvtColor(self._disp_I, cv2.COLOR_BGR2RGB)[:,:,[2,1,0]]\n",
        "        # plt.imshow(image)\n",
        "\n",
        "        return image\n",
        "\n",
        "    def save_predicted_image(self, img_fname):\n",
        "        \"\"\"\n",
        "        Save predicted grasp on the image\n",
        "        :param img_fname: Path of image file where the grasp should be saved\n",
        "        :type img_fname: string\n",
        "        \"\"\"\n",
        "        if self._disp_I is None:\n",
        "            return\n",
        "        cv2.imwrite(img_fname, self._disp_I)"
      ],
      "execution_count": 8,
      "outputs": []
    },
    {
      "cell_type": "markdown",
      "metadata": {
        "id": "l7KxhXNUibIX"
      },
      "source": [
        "Initial model"
      ]
    },
    {
      "cell_type": "code",
      "metadata": {
        "colab": {
          "base_uri": "https://localhost:8080/"
        },
        "id": "kHq1OU0bkeV_",
        "outputId": "ee064ea9-76fb-4514-ad81-dd2d2ae96718"
      },
      "source": [
        "grasp_model = GraspModel(nsamples=100, patchsize=100)"
      ],
      "execution_count": 9,
      "outputs": [
        {
          "output_type": "stream",
          "text": [
            "Loading grasp model\n"
          ],
          "name": "stdout"
        },
        {
          "output_type": "stream",
          "text": [
            "/usr/local/lib/python3.7/dist-packages/torch/serialization.py:671: SourceChangeWarning: source code of class 'deeper_models.IfullRobHWNet' has changed. Saved a reverse patch to IfullRobHWNet.patch. Run `patch -p0 < IfullRobHWNet.patch` to revert your changes.\n",
            "  warnings.warn(msg, SourceChangeWarning)\n",
            "/usr/local/lib/python3.7/dist-packages/torch/serialization.py:671: SourceChangeWarning: source code of class 'torch.nn.modules.conv.Conv2d' has changed. Saved a reverse patch to Conv2d.patch. Run `patch -p0 < Conv2d.patch` to revert your changes.\n",
            "  warnings.warn(msg, SourceChangeWarning)\n",
            "/usr/local/lib/python3.7/dist-packages/torch/serialization.py:671: SourceChangeWarning: source code of class 'torch.nn.modules.batchnorm.BatchNorm2d' has changed. Saved a reverse patch to BatchNorm2d.patch. Run `patch -p0 < BatchNorm2d.patch` to revert your changes.\n",
            "  warnings.warn(msg, SourceChangeWarning)\n",
            "/usr/local/lib/python3.7/dist-packages/torch/serialization.py:671: SourceChangeWarning: source code of class 'torch.nn.modules.activation.ReLU' has changed. Saved a reverse patch to ReLU.patch. Run `patch -p0 < ReLU.patch` to revert your changes.\n",
            "  warnings.warn(msg, SourceChangeWarning)\n",
            "/usr/local/lib/python3.7/dist-packages/torch/serialization.py:671: SourceChangeWarning: source code of class 'torch.nn.modules.pooling.MaxPool2d' has changed. Saved a reverse patch to MaxPool2d.patch. Run `patch -p0 < MaxPool2d.patch` to revert your changes.\n",
            "  warnings.warn(msg, SourceChangeWarning)\n",
            "/usr/local/lib/python3.7/dist-packages/torch/serialization.py:671: SourceChangeWarning: source code of class 'torch.nn.modules.container.Sequential' has changed. Saved a reverse patch to Sequential.patch. Run `patch -p0 < Sequential.patch` to revert your changes.\n",
            "  warnings.warn(msg, SourceChangeWarning)\n",
            "/usr/local/lib/python3.7/dist-packages/torch/serialization.py:671: SourceChangeWarning: source code of class 'torchvision.models.resnet.BasicBlock' has changed. Saved a reverse patch to BasicBlock.patch. Run `patch -p0 < BasicBlock.patch` to revert your changes.\n",
            "  warnings.warn(msg, SourceChangeWarning)\n",
            "/usr/local/lib/python3.7/dist-packages/torch/serialization.py:671: SourceChangeWarning: source code of class 'torch.nn.modules.pooling.AvgPool2d' has changed. Saved a reverse patch to AvgPool2d.patch. Run `patch -p0 < AvgPool2d.patch` to revert your changes.\n",
            "  warnings.warn(msg, SourceChangeWarning)\n",
            "/usr/local/lib/python3.7/dist-packages/torch/serialization.py:671: SourceChangeWarning: source code of class 'torch.nn.modules.linear.Linear' has changed. Saved a reverse patch to Linear.patch. Run `patch -p0 < Linear.patch` to revert your changes.\n",
            "  warnings.warn(msg, SourceChangeWarning)\n",
            "/usr/local/lib/python3.7/dist-packages/torch/serialization.py:671: SourceChangeWarning: source code of class 'torch.nn.modules.activation.Softmax' has changed. Saved a reverse patch to Softmax.patch. Run `patch -p0 < Softmax.patch` to revert your changes.\n",
            "  warnings.warn(msg, SourceChangeWarning)\n"
          ],
          "name": "stderr"
        },
        {
          "output_type": "stream",
          "text": [
            "Time taken to load model: 12.028234243392944s\n",
            "OKKKKKKKKKK\n"
          ],
          "name": "stdout"
        }
      ]
    },
    {
      "cell_type": "markdown",
      "metadata": {
        "id": "NVqeJFTyiMnm"
      },
      "source": [
        "### Prediction on CPU or GPU\n",
        "\n",
        "You could use different runtime to examine the time needed to compute grasps for the 4 demo patch images.\n",
        "\n",
        "CPU: 1-2 minutes\n",
        "GPU: 2.88 sec"
      ]
    },
    {
      "cell_type": "code",
      "metadata": {
        "colab": {
          "base_uri": "https://localhost:8080/"
        },
        "id": "LeqrrR_Y83Nt",
        "outputId": "1d67df3c-1e97-45f1-c0ed-240a88fe4f69"
      },
      "source": [
        "is_gpu = torch.cuda.is_available()\n",
        "print(is_gpu)"
      ],
      "execution_count": 10,
      "outputs": [
        {
          "output_type": "stream",
          "text": [
            "True\n"
          ],
          "name": "stdout"
        }
      ]
    },
    {
      "cell_type": "code",
      "metadata": {
        "colab": {
          "base_uri": "https://localhost:8080/"
        },
        "id": "ZDvCp7oNDz9c",
        "outputId": "521d8194-ec94-4629-aa35-9f5e4531a27d"
      },
      "source": [
        "%cd pose_estimation/data/images/\n",
        "!mkdir result\n",
        "%cd ../../.."
      ],
      "execution_count": 74,
      "outputs": [
        {
          "output_type": "stream",
          "text": [
            "/content/pose_estimation/data/images\n",
            "/content\n"
          ],
          "name": "stdout"
        }
      ]
    },
    {
      "cell_type": "code",
      "metadata": {
        "colab": {
          "base_uri": "https://localhost:8080/"
        },
        "id": "8XjWqPCdCkX2",
        "outputId": "644c51ad-96fa-433f-b56c-03169cfb9ce5"
      },
      "source": [
        "dims=[(0, 120), (0, 440)]\n",
        "for i in range(3):\n",
        "    # read image from file\n",
        "    img_original = cv2.imread('pose_estimation/data/images/food/food_'+ str(i+1) +'.jpg')\n",
        "\n",
        "    # convert image from RGB to BGR\n",
        "    img = cv2.cvtColor(img_original, cv2.COLOR_RGB2BGR)\n",
        "\n",
        "    # crop img into 240x440 pixels\n",
        "    img = img[dims[0][0] : dims[0][1], dims[1][0] : dims[1][1]]\n",
        "\n",
        "    # selected_grasp = [183, 221, -1.5707963267948966, 1.0422693]\n",
        "    selected_grasp = list(grasp_model.predict(img))\n",
        "\n",
        "    # save pose estimation result\n",
        "    cv2.imwrite('pose_estimation/data/images/result/food_'+ str(i+1) +'.jpg', grasp_model._disp_I)\n"
      ],
      "execution_count": 75,
      "outputs": [
        {
          "output_type": "stream",
          "text": [
            "/content/pose_estimation/grasp_samplers/deeper_models.py:63: UserWarning: Implicit dimension choice for softmax has been deprecated. Change the call to include dim=X as an argument.\n",
            "  fc_noise_soft = self.fc_noise_softmax(noise_out)\n"
          ],
          "name": "stderr"
        }
      ]
    },
    {
      "cell_type": "code",
      "metadata": {
        "id": "TyMOH3hkI7sF"
      },
      "source": [
        "from IPython.display import Image as Display  # to display image"
      ],
      "execution_count": 76,
      "outputs": []
    },
    {
      "cell_type": "code",
      "metadata": {
        "colab": {
          "base_uri": "https://localhost:8080/",
          "height": 181
        },
        "id": "iUldWqaAC2pN",
        "outputId": "6eb4a7a9-24a2-4cf0-8446-95e03b73cfb9"
      },
      "source": [
        "# show result 1\n",
        "Display(filename='pose_estimation/data/images/result/food_1.jpg', width=600)"
      ],
      "execution_count": 77,
      "outputs": [
        {
          "output_type": "execute_result",
          "data": {
            "image/jpeg": "[encoded data removed]",
            "text/plain": [
              "<IPython.core.display.Image object>"
            ]
          },
          "metadata": {
            "tags": [],
            "image/jpeg": {
              "width": 600
            }
          },
          "execution_count": 77
        }
      ]
    },
    {
      "cell_type": "code",
      "metadata": {
        "colab": {
          "base_uri": "https://localhost:8080/",
          "height": 181
        },
        "id": "qLLsKLjzC3Jg",
        "outputId": "189357a3-c204-42c8-f468-aaffd7800e6d"
      },
      "source": [
        "# show result 2\n",
        "Display(filename='pose_estimation/data/images/result/food_2.jpg', width=600)"
      ],
      "execution_count": 78,
      "outputs": [
        {
          "output_type": "execute_result",
          "data": {
            "image/jpeg": "[encoded data removed]",
            "text/plain": [
              "<IPython.core.display.Image object>"
            ]
          },
          "metadata": {
            "tags": [],
            "image/jpeg": {
              "width": 600
            }
          },
          "execution_count": 78
        }
      ]
    },
    {
      "cell_type": "code",
      "metadata": {
        "colab": {
          "base_uri": "https://localhost:8080/",
          "height": 181
        },
        "id": "2IJZYZ45C3dA",
        "outputId": "9cb0df41-856e-4177-ef7e-e4b107276f07"
      },
      "source": [
        "# show result 3\n",
        "Display(filename='pose_estimation/data/images/result/food_3.jpg', width=600)"
      ],
      "execution_count": 79,
      "outputs": [
        {
          "output_type": "execute_result",
          "data": {
            "image/jpeg": "[encoded data removed]",
            "text/plain": [
              "<IPython.core.display.Image object>"
            ]
          },
          "metadata": {
            "tags": [],
            "image/jpeg": {
              "width": 600
            }
          },
          "execution_count": 79
        }
      ]
    },
    {
      "cell_type": "code",
      "metadata": {
        "colab": {
          "base_uri": "https://localhost:8080/"
        },
        "id": "dnmgjyiOGQhH",
        "outputId": "fb9632af-09b0-418a-8da7-f08bb396fbf6"
      },
      "source": [
        "!pwd\n",
        "!rm -rf pose_estimation"
      ],
      "execution_count": 72,
      "outputs": [
        {
          "output_type": "stream",
          "text": [
            "/content\n"
          ],
          "name": "stdout"
        }
      ]
    }
  ]
}